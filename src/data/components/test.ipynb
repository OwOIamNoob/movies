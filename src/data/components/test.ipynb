{
 "cells": [
  {
   "cell_type": "code",
   "execution_count": null,
   "metadata": {},
   "outputs": [],
   "source": [
    "import pyrootutils"
   ]
  },
  {
   "cell_type": "code",
   "execution_count": 2,
   "metadata": {},
   "outputs": [],
   "source": [
    "import matplotlib.pyplot as plt"
   ]
  },
  {
   "cell_type": "code",
   "execution_count": 3,
   "metadata": {},
   "outputs": [
    {
     "name": "stderr",
     "output_type": "stream",
     "text": [
      "/work/hpc/miniconda3/envs/nlp/lib/python3.10/site-packages/tqdm/auto.py:21: TqdmWarning: IProgress not found. Please update jupyter and ipywidgets. See https://ipywidgets.readthedocs.io/en/stable/user_install.html\n",
      "  from .autonotebook import tqdm as notebook_tqdm\n"
     ]
    }
   ],
   "source": [
    "import torch \n",
    "import torchvision\n",
    "from torchvision import transforms\n",
    "from torchvision.transforms import Compose"
   ]
  },
  {
   "cell_type": "code",
   "execution_count": 4,
   "metadata": {},
   "outputs": [
    {
     "data": {
      "text/plain": [
       "PosixPath('/work/hpc/potato/movies')"
      ]
     },
     "execution_count": 4,
     "metadata": {},
     "output_type": "execute_result"
    }
   ],
   "source": [
    "pyrootutils.setup_root(search_from=__vsc_ipynb_file__, indicator=\".project-root\", pythonpath=True)"
   ]
  },
  {
   "cell_type": "code",
   "execution_count": 5,
   "metadata": {},
   "outputs": [],
   "source": [
    "#src/data/components/MLDataset\n",
    "from src.data.components.MLDataset import MLDataset, MLTransformedDataset\n",
    "from src.data.components.vocab import Vocab"
   ]
  },
  {
   "cell_type": "code",
   "execution_count": 6,
   "metadata": {},
   "outputs": [],
   "source": [
    "title_vocab = Vocab(\"/work/hpc/potato/movies/data/movies/dataset/words.txt\")\n",
    "genre_vocab = Vocab(\"/work/hpc/potato/movies/data/movies/dataset/genres.txt\")"
   ]
  },
  {
   "cell_type": "code",
   "execution_count": 7,
   "metadata": {},
   "outputs": [
    {
     "name": "stdout",
     "output_type": "stream",
     "text": [
      "777\n"
     ]
    }
   ],
   "source": [
    "dataset = MLDataset(data_dir=\"/work/hpc/potato/movies/data/movies/dataset/\",\n",
    "                    img_dir=\"/work/hpc/potato/movies/data/movies/dataset/ml1m-images/\",\n",
    "                    title_vocab=title_vocab,\n",
    "                    genre_vocab=genre_vocab,\n",
    "                    data_type=\"test\")"
   ]
  },
  {
   "cell_type": "code",
   "execution_count": 8,
   "metadata": {},
   "outputs": [
    {
     "data": {
      "text/plain": [
       "<matplotlib.image.AxesImage at 0x7f1dbf298d90>"
      ]
     },
     "execution_count": 8,
     "metadata": {},
     "output_type": "execute_result"
    },
    {
     "data": {
      "image/png": "[encoded data removed]",
      "text/plain": [
       "<Figure size 640x480 with 1 Axes>"
      ]
     },
     "metadata": {},
     "output_type": "display_data"
    }
   ],
   "source": [
    "data = dataset[200]\n",
    "plt.imshow(data['ratings'])"
   ]
  },
  {
   "cell_type": "code",
   "execution_count": 13,
   "metadata": {},
   "outputs": [],
   "source": [
    "transformed_dataset = MLTransformedDataset(dataset=dataset,\n",
    "                                           pad_id=0.,\n",
    "                                           transforms=Compose([transforms.Resize((256, 256)),\n",
    "                                                               transforms.RandomAffine(degrees=(-10, 10),\n",
    "                                                                                       translate=(0.1, 0.1),\n",
    "                                                                                       interpolation=transforms.InterpolationMode.NEAREST),\n",
    "                                                               transforms.ToTensor()\n",
    "                                                               ]),\n",
    "                                           rating_transforms=Compose([transforms.Resize((64, 64), interpolation=transforms.InterpolationMode.NEAREST),\n",
    "                                                                      transforms.PILToTensor(),\n",
    "                                                                      transforms.ConvertImageDtype(torch.float32),]),\n",
    "                                           )"
   ]
  },
  {
   "cell_type": "code",
   "execution_count": 14,
   "metadata": {},
   "outputs": [],
   "source": [
    "data = transformed_dataset[200]"
   ]
  },
  {
   "cell_type": "code",
   "execution_count": 15,
   "metadata": {},
   "outputs": [],
   "source": [
    "ratings = data['ratings'].permute(1, 2, 0).numpy()"
   ]
  },
  {
   "cell_type": "code",
   "execution_count": 16,
   "metadata": {},
   "outputs": [
    {
     "name": "stdout",
     "output_type": "stream",
     "text": [
      "[[[0.         0.         0.         0.        ]\n",
      "  [0.         0.         0.         0.        ]\n",
      "  [0.         0.         0.         0.        ]\n",
      "  ...\n",
      "  [0.00392157 0.00784314 0.06666667 0.01176471]\n",
      "  [0.00392157 0.00784314 0.06666667 0.01176471]\n",
      "  [0.00392157 0.00784314 0.06666667 0.01176471]]\n",
      "\n",
      " [[0.         0.         0.         0.        ]\n",
      "  [0.         0.         0.         0.        ]\n",
      "  [0.         0.         0.         0.        ]\n",
      "  ...\n",
      "  [0.00392157 0.00784314 0.06666667 0.01176471]\n",
      "  [0.00392157 0.00784314 0.06666667 0.01176471]\n",
      "  [0.00392157 0.00784314 0.06666667 0.01176471]]\n",
      "\n",
      " [[0.         0.         0.         0.        ]\n",
      "  [0.         0.         0.         0.        ]\n",
      "  [0.         0.         0.         0.        ]\n",
      "  ...\n",
      "  [0.00392157 0.00784314 0.06666667 0.01176471]\n",
      "  [0.00392157 0.00784314 0.06666667 0.01176471]\n",
      "  [0.00392157 0.00784314 0.06666667 0.01176471]]\n",
      "\n",
      " ...\n",
      "\n",
      " [[0.00392157 0.01176471 0.         0.00784314]\n",
      "  [0.00392157 0.01176471 0.         0.00784314]\n",
      "  [0.00392157 0.01176471 0.         0.00784314]\n",
      "  ...\n",
      "  [0.00392157 0.01960784 0.07843138 0.00784314]\n",
      "  [0.00392157 0.01960784 0.07843138 0.00784314]\n",
      "  [0.00392157 0.01960784 0.07843138 0.00784314]]\n",
      "\n",
      " [[0.00392157 0.01176471 0.         0.00784314]\n",
      "  [0.00392157 0.01176471 0.         0.00784314]\n",
      "  [0.00392157 0.01176471 0.         0.00784314]\n",
      "  ...\n",
      "  [0.00392157 0.01960784 0.07843138 0.00784314]\n",
      "  [0.00392157 0.01960784 0.07843138 0.00784314]\n",
      "  [0.00392157 0.01960784 0.07843138 0.00784314]]\n",
      "\n",
      " [[0.00392157 0.01176471 0.         0.00784314]\n",
      "  [0.00392157 0.01176471 0.         0.00784314]\n",
      "  [0.00392157 0.01176471 0.         0.00784314]\n",
      "  ...\n",
      "  [0.00392157 0.01960784 0.07843138 0.00784314]\n",
      "  [0.00392157 0.01960784 0.07843138 0.00784314]\n",
      "  [0.00392157 0.01960784 0.07843138 0.00784314]]]\n"
     ]
    }
   ],
   "source": [
    "print(ratings)"
   ]
  },
  {
   "cell_type": "code",
   "execution_count": 25,
   "metadata": {},
   "outputs": [
    {
     "data": {
      "text/plain": [
       "<matplotlib.image.AxesImage at 0x7f2af0e58220>"
      ]
     },
     "execution_count": 25,
     "metadata": {},
     "output_type": "execute_result"
    },
    {
     "data": {
      "image/png": "[encoded data removed]",
      "text/plain": [
       "<Figure size 640x480 with 1 Axes>"
      ]
     },
     "metadata": {},
     "output_type": "display_data"
    }
   ],
   "source": [
    "plt.imshow(ratings)"
   ]
  },
  {
   "cell_type": "code",
   "execution_count": null,
   "metadata": {},
   "outputs": [],
   "source": []
  }
 ],
 "metadata": {
  "kernelspec": {
   "display_name": "nlp",
   "language": "python",
   "name": "python3"
  },
  "language_info": {
   "codemirror_mode": {
    "name": "ipython",
    "version": 3
   },
   "file_extension": ".py",
   "mimetype": "text/x-python",
   "name": "python",
   "nbconvert_exporter": "python",
   "pygments_lexer": "ipython3",
   "version": "3.10.13"
  },
  "orig_nbformat": 4
 },
 "nbformat": 4,
 "nbformat_minor": 2
}
