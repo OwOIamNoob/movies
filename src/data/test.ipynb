{
 "cells": [
  {
   "cell_type": "code",
   "execution_count": 1,
   "metadata": {},
   "outputs": [
    {
     "name": "stderr",
     "output_type": "stream",
     "text": [
      "/work/hpc/miniconda3/envs/nlp/lib/python3.10/site-packages/tqdm/auto.py:21: TqdmWarning: IProgress not found. Please update jupyter and ipywidgets. See https://ipywidgets.readthedocs.io/en/stable/user_install.html\n",
      "  from .autonotebook import tqdm as notebook_tqdm\n"
     ]
    }
   ],
   "source": [
    "from movies_datamodule import MLDataModule"
   ]
  },
  {
   "cell_type": "code",
   "execution_count": 2,
   "metadata": {},
   "outputs": [],
   "source": [
    "from typing import Any, Dict, Optional, Tuple\n",
    "\n",
    "import torch\n",
    "from lightning import LightningDataModule\n",
    "from torch.utils.data import DataLoader, Dataset, random_split\n",
    "from torchvision.transforms import Compose\n",
    "from torchvision import transforms\n"
   ]
  },
  {
   "cell_type": "code",
   "execution_count": 3,
   "metadata": {},
   "outputs": [],
   "source": [
    "datamodule: LightningDataModule = MLDataModule(data_dir=\"/work/hpc/potato/movies/data/movies/dataset\",\n",
    "                                                   img_dir=\"/work/hpc/potato/movies/data/movies/dataset/ml1m-images/\",\n",
    "                                                   genre_path=\"/work/hpc/potato/movies/data/movies/dataset/genres.txt\",\n",
    "                                                   word_path=\"/work/hpc/potato/movies/data/movies/dataset/words.txt\",\n",
    "                                                   max_seq_len=10,\n",
    "                                                   rating_transforms=Compose([torch.FloatTensor,\n",
    "                                                                              transforms.Normalize(mean=[0.5, 3, 10, 2.5],\n",
    "                                                                                                   std=[0.5, 3, 10, 2.5])]),\n",
    "                                                   transforms=Compose([ transforms.RandomAffine(degrees=(-10, 10),\n",
    "                                                                                                translate=(0.1, 0.1),\n",
    "                                                                                                interpolation=transforms.InterpolationMode.NEAREST),\n",
    "                                                                        transforms.Resize((256, 256)),\n",
    "                                                                        transforms.ToTensor()]),\n",
    "                                                   test_transforms=Compose([transforms.Resize((256, 256)), \n",
    "                                                                            transforms.ToTensor()]),\n",
    "                                                   rating_img_size= 64,\n",
    "                                                   img_size=256,\n",
    "                                                   batch_size=8,\n",
    "                                                   num_workers=4,\n",
    "                                                   pin_memory=False)"
   ]
  },
  {
   "cell_type": "code",
   "execution_count": 4,
   "metadata": {},
   "outputs": [
    {
     "name": "stdout",
     "output_type": "stream",
     "text": [
      "3106\n",
      "777\n",
      "777\n",
      "tensor([[1691, 2391, 1503, 1924,    0,    0,    0,    0,    0,    0],\n",
      "        [3320,  632,    0,    0,    0,    0,    0,    0,    0,    0],\n",
      "        [3702, 3212, 1924, 1961, 4465,    0,    0,    0,    0,    0],\n",
      "        [3653, 1876, 2358,  536,    0,    0,    0,    0,    0,    0],\n",
      "        [4343, 1924,  514,    0,    0,    0,    0,    0,    0,    0],\n",
      "        [3425,    0,    0,    0,    0,    0,    0,    0,    0,    0],\n",
      "        [1961,    0,    0,    0,    0,    0,    0,    0,    0,    0],\n",
      "        [1546,  551, 2581, 1924, 2410,  855,    0,    0,    0,    0]])\n"
     ]
    }
   ],
   "source": [
    "datamodule.setup()\n",
    "dataloader = datamodule.test_dataloader()\n",
    "batch = next(iter(dataloader))\n",
    "print(batch['titles'])"
   ]
  },
  {
   "cell_type": "code",
   "execution_count": 5,
   "metadata": {},
   "outputs": [],
   "source": [
    "rating_img = batch['ratings'][0].permute(1, 2, 0).numpy()"
   ]
  },
  {
   "cell_type": "code",
   "execution_count": 9,
   "metadata": {},
   "outputs": [],
   "source": [
    "import numpy as np\n",
    "import matplotlib.pyplot as plt"
   ]
  },
  {
   "cell_type": "code",
   "execution_count": 17,
   "metadata": {},
   "outputs": [],
   "source": [
    "rating_img = np.interp(batch['ratings'][2].permute(1, 2, 0).numpy()[:, :, :3], (-1, 1), (0, 1))"
   ]
  },
  {
   "cell_type": "code",
   "execution_count": 18,
   "metadata": {},
   "outputs": [
    {
     "data": {
      "text/plain": [
       "<matplotlib.image.AxesImage at 0x7f86ff27dab0>"
      ]
     },
     "execution_count": 18,
     "metadata": {},
     "output_type": "execute_result"
    },
    {
     "data": {
      "image/png": "[encoded data removed]",
      "text/plain": [
       "<Figure size 640x480 with 1 Axes>"
      ]
     },
     "metadata": {},
     "output_type": "display_data"
    }
   ],
   "source": [
    "plt.imshow(rating_img)"
   ]
  },
  {
   "cell_type": "code",
   "execution_count": null,
   "metadata": {},
   "outputs": [],
   "source": []
  }
 ],
 "metadata": {
  "kernelspec": {
   "display_name": "nlp",
   "language": "python",
   "name": "python3"
  },
  "language_info": {
   "codemirror_mode": {
    "name": "ipython",
    "version": 3
   },
   "file_extension": ".py",
   "mimetype": "text/x-python",
   "name": "python",
   "nbconvert_exporter": "python",
   "pygments_lexer": "ipython3",
   "version": "3.10.13"
  },
  "orig_nbformat": 4
 },
 "nbformat": 4,
 "nbformat_minor": 2
}
